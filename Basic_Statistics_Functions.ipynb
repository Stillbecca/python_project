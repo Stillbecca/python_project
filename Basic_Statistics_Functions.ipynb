{
 "cells": [
  {
   "cell_type": "code",
   "execution_count": null,
   "metadata": {},
   "outputs": [],
   "source": [
    "import math\n",
    "def mean_cal(*args):\n",
    "    arg_len = len(args)\n",
    "    sum = 0\n",
    "    for i in args:\n",
    "        sum +=i\n",
    "    mean= sum/arg_len\n",
    "\n",
    "    return mean\n",
    "\n",
    "\n",
    "def variance_cal(*args):\n",
    "    arg_len = len(args)\n",
    "    sum = 0\n",
    "    sum2 = 0\n",
    "    for i in args:\n",
    "        sum +=i\n",
    "    mean= sum/arg_len\n",
    "  \n",
    "    for i in args:\n",
    "        sub = i - mean\n",
    "        square = sub**2\n",
    "        sum2 +=square\n",
    "    variance = sum2/arg_len\n",
    "    return variance\n",
    "        \n",
    "\n",
    "\n",
    "def standard_deviation_cal(var):\n",
    "    return math.sqrt(var) \n"
   ]
  }
 ],
 "metadata": {
  "kernelspec": {
   "display_name": "Python 3",
   "language": "python",
   "name": "python3"
  },
  "language_info": {
   "codemirror_mode": {
    "name": "ipython",
    "version": 3
   },
   "file_extension": ".py",
   "mimetype": "text/x-python",
   "name": "python",
   "nbconvert_exporter": "python",
   "pygments_lexer": "ipython3",
   "version": "3.8.3"
  }
 },
 "nbformat": 4,
 "nbformat_minor": 4
}
